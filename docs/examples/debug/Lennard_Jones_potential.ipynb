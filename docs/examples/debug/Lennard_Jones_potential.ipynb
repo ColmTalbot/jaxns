{
 "cells": [
  {
   "cell_type": "markdown",
   "metadata": {},
   "source": [
    "# Lennard-Jones Potentials for modelling phase transitions in materials\n",
    "\n",
    "Nested Sampling is the ideal tool for computing the partition function.\n",
    "\n",
    "$$Z(\\beta) = \\int_\\mathcal{X} e^{-\\beta E(x)} \\, \\mathrm{d}x$$\n",
    "\n",
    "where $\\beta \\in [0, \\infty)$ is the inverse temperature parameter, $\\mathcal{X}$ is the set of all configurations of the system, and $E : \\mathcal{X} \\to \\mathbb{R}$ is the potential function, which in this case will be the Lennard-Jones potential,\n",
    "\n",
    "$$E(x) = 4 \\epsilon \\sum_{i,j} \\left( \\left(\\frac{\\sigma}{r_{ij}}\\right)^{12} - \\left(\\frac{\\sigma}{r_{ij}}\\right)^6 \\right).$$\n",
    "\n",
    "In this equation, the $-\\epsilon$ represents the energy of the ground state, and $\\sigma$ is the equilibrium distance when the potential energy is zero.\n",
    "\n",
    "The system is invariant to changes in sigma and the total size of the region. Therefore, we choose $\\sigma$ as a ratio with the size of the box. We'll chose to sample states within a unit box, therefore, we are choosing how big the box is in units of $\\sigma$. Choosing $\\sigma=0.01$ is equivalent to choosing, means the volume is roughly 100 particles per side."
   ]
  },
  {
   "cell_type": "code",
   "execution_count": 1,
   "metadata": {
    "execution": {
     "iopub.execute_input": "2023-12-11T12:43:28.446827Z",
     "iopub.status.busy": "2023-12-11T12:43:28.446081Z",
     "iopub.status.idle": "2023-12-11T12:43:29.702439Z",
     "shell.execute_reply": "2023-12-11T12:43:29.701919Z"
    },
    "ExecuteTime": {
     "end_time": "2024-08-21T12:36:06.273487344Z",
     "start_time": "2024-08-21T12:36:05.009144170Z"
    }
   },
   "outputs": [
    {
     "name": "stderr",
     "output_type": "stream",
     "text": [
      "An NVIDIA GPU may be present on this machine, but a CUDA-enabled jaxlib is not installed. Falling back to cpu.\n"
     ]
    }
   ],
   "source": [
    "\n",
    "import jax\n",
    "\n",
    "jax.config.update(\"jax_enable_x64\", True)\n",
    "\n",
    "import tensorflow_probability.substrates.jax as tfp\n",
    "from jax import random, numpy as jnp\n",
    "from jax import vmap\n",
    "\n",
    "from jaxns import Model\n",
    "from jaxns import Prior\n",
    "\n",
    "tfpd = tfp.distributions\n"
   ]
  },
  {
   "cell_type": "code",
   "execution_count": 2,
   "metadata": {
    "execution": {
     "iopub.execute_input": "2023-12-11T12:43:29.704492Z",
     "iopub.status.busy": "2023-12-11T12:43:29.704299Z",
     "iopub.status.idle": "2023-12-11T12:43:29.708102Z",
     "shell.execute_reply": "2023-12-11T12:43:29.707626Z"
    },
    "ExecuteTime": {
     "end_time": "2024-08-21T12:36:06.855629395Z",
     "start_time": "2024-08-21T12:36:06.283007051Z"
    }
   },
   "outputs": [],
   "source": [
    "\n",
    "def pairwise_distances_squared(points):\n",
    "    n = points.shape[0]\n",
    "    pair_indices = jnp.triu_indices(n, 1)  # Upper triangular indices, excluding diagonal\n",
    "\n",
    "    # Create function that calculates the distance between two points\n",
    "    def dist_fn(ij):\n",
    "        i, j = ij\n",
    "        return jnp.sum(jnp.square(points[i] - points[j]))\n",
    "\n",
    "    # Apply this function to each pair of indices\n",
    "    pairwise_distances = vmap(dist_fn)(pair_indices)\n",
    "\n",
    "    return pairwise_distances\n",
    "\n",
    "\n",
    "# test pairwise_distances_squared\n",
    "points = jnp.array([[1, 2], [3, 4], [5, 6], [7, 8]])\n",
    "assert jnp.all(pairwise_distances_squared(points) == jnp.asarray([8, 32, 72, 8, 32, 8]))"
   ]
  },
  {
   "cell_type": "code",
   "execution_count": 3,
   "metadata": {
    "execution": {
     "iopub.execute_input": "2023-12-11T12:43:29.709749Z",
     "iopub.status.busy": "2023-12-11T12:43:29.709617Z",
     "iopub.status.idle": "2023-12-11T12:43:30.728926Z",
     "shell.execute_reply": "2023-12-11T12:43:30.728424Z"
    },
    "ExecuteTime": {
     "end_time": "2024-08-21T12:36:09.227441586Z",
     "start_time": "2024-08-21T12:36:06.864426520Z"
    }
   },
   "outputs": [
    {
     "name": "stdout",
     "output_type": "stream",
     "text": [
      "{'beta': Array(1., dtype=float64, weak_type=True)}\n"
     ]
    },
    {
     "name": "stderr",
     "output_type": "stream",
     "text": [
      "INFO:jaxns:Sanity check...\n",
      "INFO:jaxns:Sanity check passed\n"
     ]
    }
   ],
   "source": [
    "\n",
    "\n",
    "from jaxns.internals.log_semiring import LogSpace\n",
    "import jaxns.framework.context as ctx\n",
    "\n",
    "num_particles = 4\n",
    "num_pairs = num_particles * (num_particles - 1) // 2\n",
    "sigma = jnp.asarray(0.439)\n",
    "epsilon = jnp.asarray(1.)\n",
    "box_length = jnp.asarray(4.)\n",
    "\n",
    "\n",
    "def prior_model():\n",
    "    x = yield Prior(tfpd.Uniform(low=jnp.zeros((num_particles, 3)), high=box_length * jnp.ones((num_particles, 3))),\n",
    "                    name='x')\n",
    "    beta = ctx.get_parameter('beta', init=jnp.asarray(1.))\n",
    "    return x, beta\n",
    "\n",
    "\n",
    "def log_likelihood(x, beta):\n",
    "    \"\"\"\n",
    "    negative V12-6 potential. Epsilon=1, beta=1.\n",
    "    \"\"\"\n",
    "    r2_ij = LogSpace(jnp.log(pairwise_distances_squared(x / sigma)))\n",
    "\n",
    "    r6_ij = r2_ij ** 3\n",
    "    r12_ij = r6_ij ** 2\n",
    "    r6_ij_inv = r6_ij ** -1\n",
    "    r12_ij_inv = r12_ij ** -1\n",
    "    E = LogSpace(jnp.log(4. * epsilon)) * (r12_ij_inv - r6_ij_inv)\n",
    "    E = E.sum().value\n",
    "    return -beta * E\n",
    "\n",
    "\n",
    "model = Model(\n",
    "    prior_model=prior_model,\n",
    "    log_likelihood=log_likelihood\n",
    ")\n",
    "params = model.params\n",
    "\n",
    "print(params)\n",
    "\n",
    "model.sanity_check(random.PRNGKey(42), 1000)\n"
   ]
  },
  {
   "cell_type": "code",
   "execution_count": null,
   "metadata": {
    "execution": {
     "iopub.execute_input": "2023-12-11T12:43:30.730650Z",
     "iopub.status.busy": "2023-12-11T12:43:30.730511Z",
     "iopub.status.idle": "2023-12-11T12:46:53.657926Z",
     "shell.execute_reply": "2023-12-11T12:46:53.657365Z"
    },
    "is_executing": true,
    "ExecuteTime": {
     "start_time": "2024-08-21T12:36:09.232218903Z"
    }
   },
   "outputs": [],
   "source": [
    "import jax\n",
    "from jaxns import NestedSampler, TerminationCondition\n",
    "\n",
    "# Create the nested sampler class. In this case without any tuning.\n",
    "ns = NestedSampler(\n",
    "    model=model,\n",
    "    max_samples=1e6,\n",
    "    s=model.U_ndims * 10,\n",
    "    k=0,\n",
    "    c=model.U_ndims * 10\n",
    ")\n",
    "\n",
    "# Crucial for Lenard-Jones potential is to go deep enough. \n",
    "# Since we know min(E)=-epsilon for a single pair, we know that the log_L_max = epsilon * num_pairs \n",
    "# Thus we can use the log_L_contour termination condition.\n",
    "term_cond = TerminationCondition(\n",
    "    log_L_contour=0.995 * epsilon * num_pairs,\n",
    "    dlogZ=0.\n",
    ")\n",
    "ns_compiled = jax.jit(ns).lower(jax.random.PRNGKey(42), term_cond=term_cond).compile()\n",
    "\n",
    "termination_reason, state = ns_compiled(random.PRNGKey(42), term_cond=term_cond)\n",
    "\n",
    "results = ns.to_results(\n",
    "    termination_reason=termination_reason,\n",
    "    state=state,\n",
    "    trim=True\n",
    ")\n",
    "\n",
    "ns.summary(results)"
   ]
  },
  {
   "cell_type": "code",
   "execution_count": null,
   "metadata": {
    "execution": {
     "iopub.execute_input": "2023-12-11T12:47:01.291398Z",
     "iopub.status.busy": "2023-12-11T12:47:01.291212Z",
     "iopub.status.idle": "2023-12-11T12:47:02.014754Z",
     "shell.execute_reply": "2023-12-11T12:47:02.014260Z"
    },
    "is_executing": true
   },
   "outputs": [],
   "source": [
    "from typing import NamedTuple\n",
    "\n",
    "quantity_names = ['logZ(beta)', 'F(beta)', 'S(beta)', 'C(beta)', 'E(beta)']\n",
    "colors = ['b', 'g', 'r', 'c', 'm']\n",
    "\n",
    "\n",
    "class Quantities(NamedTuple):\n",
    "    logZ: jax.Array\n",
    "    F: jax.Array\n",
    "    S: jax.Array\n",
    "    C: jax.Array\n",
    "    E: jax.Array\n",
    "\n",
    "\n",
    "class IntermediateQuantities(NamedTuple):\n",
    "    beta_E: jax.Array\n",
    "    beta_E2: jax.Array\n",
    "\n",
    "\n",
    "def compute_integrands_of_interest(model, U) -> IntermediateQuantities:\n",
    "    beta_E = -model.forward(U)  # E(x)\n",
    "    beta_E2 = beta_E ** 2\n",
    "    return IntermediateQuantities(beta_E=beta_E, beta_E2=beta_E2)\n",
    "\n",
    "\n",
    "@jax.jit\n",
    "def compute_quantities(beta) -> Quantities:\n",
    "    integrands = jax.vmap(\n",
    "        lambda U: compute_integrands_of_interest(model({'beta': beta}), U)\n",
    "    )(results.U_samples)\n",
    "    weights = LogSpace(results.log_dp_mean)\n",
    "    # Z(beta) = int exp(-beta E(x)) dx\n",
    "    Z_beta = (LogSpace(-integrands.beta_E) * weights).sum()\n",
    "    F_beta = -Z_beta.log_abs_val / beta\n",
    "    exp_beta_E = (LogSpace.from_signed_value(integrands.beta_E) * weights).sum()\n",
    "    exp_beta_E2 = (LogSpace.from_signed_value(integrands.beta_E2) * weights).sum()\n",
    "    S_beta = (exp_beta_E - Z_beta.log()).value\n",
    "    C_beta = (exp_beta_E2 - exp_beta_E ** 2).value\n",
    "    E_beta = (exp_beta_E / LogSpace(jnp.log(beta))).value\n",
    "    return Quantities(\n",
    "        logZ=Z_beta.log_abs_val,\n",
    "        F=F_beta,\n",
    "        S=S_beta,\n",
    "        C=C_beta,\n",
    "        E=E_beta\n",
    "    )\n",
    "\n",
    "\n",
    "x = []\n",
    "y = []\n",
    "import pylab as plt\n",
    "\n",
    "fig, axs = plt.subplots(len(quantity_names), 1, figsize=(6, len(quantity_names) * 2), squeeze=False, sharex=True)\n",
    "\n",
    "k_B = 1.380649e-23  # J/K\n",
    "T_min = 0.1  # K\n",
    "T_max = 300  # K\n",
    "beta_min = 1. / (T_max * k_B)\n",
    "beta_max = 1. / (T_min * k_B)\n",
    "for beta in jnp.linspace(beta_min, beta_max, 100):\n",
    "    quantities = compute_quantities(beta)\n",
    "    x.append(beta)\n",
    "    y.append(quantities)\n",
    "    for i, (name, q, c) in enumerate(zip(quantity_names, quantities, colors)):\n",
    "        axs[i, 0].scatter(beta, q, color=c, s=1)\n",
    "\n",
    "for i, (name, c) in enumerate(zip(quantity_names, colors)):\n",
    "    axs[i, 0].set_ylabel(name)\n",
    "    # Only 1 label on legend, despite labelling each beta\n",
    "    axs[i, 0].legend()\n",
    "axs[-1, 0].set_xlabel('beta')\n",
    "plt.tight_layout()\n",
    "plt.show()"
   ]
  },
  {
   "cell_type": "code",
   "outputs": [],
   "source": [
    "ns.plot_diagnostics(results)"
   ],
   "metadata": {
    "collapsed": false,
    "is_executing": true
   },
   "execution_count": null
  },
  {
   "cell_type": "code",
   "outputs": [],
   "source": [
    "ns.save_results(results, 'results.json')"
   ],
   "metadata": {
    "collapsed": false,
    "is_executing": true
   },
   "execution_count": null
  }
 ],
 "metadata": {
  "kernelspec": {
   "display_name": "Python 3 (ipykernel)",
   "language": "python",
   "name": "python3"
  },
  "language_info": {
   "codemirror_mode": {
    "name": "ipython",
    "version": 3
   },
   "file_extension": ".py",
   "mimetype": "text/x-python",
   "name": "python",
   "nbconvert_exporter": "python",
   "pygments_lexer": "ipython3",
   "version": "3.11.5"
  }
 },
 "nbformat": 4,
 "nbformat_minor": 1
}
