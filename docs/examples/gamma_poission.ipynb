{
 "cells": [
  {
   "cell_type": "markdown",
   "metadata": {},
   "source": [
    "# Poisson likelihood and Gamma prior\n",
    "\n",
    "This is a simple model where our discrete data, $y$, is modelled as a Poisson RV with Gamma prior, which is a conjugate prior model.\n",
    "\n",
    "$L(x) = p(y | x) = \\mathcal{P}[y \\mid x]$\n",
    "\n",
    "and\n",
    "\n",
    "$p(x) = \\Gamma[x \\mid k, \\theta]$.\n",
    "\n",
    "The analytic evidence for this model is,\n",
    "\n",
    "$Z = p(y) = \\int_\\mathcal{X} L(x) p(x) \\,\\mathrm{d} x =  \\mathcal{P}[y \\mid 1] \\frac{\\Gamma[1 \\mid k, \\theta]}{\\Gamma[1 \\mid k', \\theta']}$\n",
    "\n",
    "The posterior is also a Gamma distribution,\n",
    "\n",
    "$p(x \\mid y) = \\Gamma[x \\mid k', \\theta']$\n",
    "\n",
    "where\n",
    "\n",
    "$k' = k + \\sum_i y_i$\n",
    "\n",
    "and\n",
    "\n",
    "$\\theta' = \\frac{\\theta}{(\\theta \\sum_i y_i + 1)}$"
   ]
  },
  {
   "cell_type": "code",
   "execution_count": 1,
   "metadata": {
    "execution": {
     "iopub.execute_input": "2023-12-21T11:26:09.256606Z",
     "iopub.status.busy": "2023-12-21T11:26:09.256013Z",
     "iopub.status.idle": "2023-12-21T11:26:10.594156Z",
     "shell.execute_reply": "2023-12-21T11:26:10.593595Z"
    },
    "ExecuteTime": {
     "end_time": "2024-09-23T22:06:35.919340Z",
     "start_time": "2024-09-23T22:06:34.630838Z"
    }
   },
   "outputs": [
    {
     "name": "stderr",
     "output_type": "stream",
     "text": [
      "/home/albert/git/jaxns/jaxns/internals/mixed_precision.py:15: UserWarning: JAX x64 is not enabled. Setting it now. Check for errors.\n",
      "  warnings.warn(\"JAX x64 is not enabled. Setting it now. Check for errors.\")\n",
      "INFO:jax._src.xla_bridge:Unable to initialize backend 'cuda': \n",
      "INFO:jax._src.xla_bridge:Unable to initialize backend 'rocm': module 'jaxlib.xla_extension' has no attribute 'GpuAllocatorConfig'\n",
      "INFO:jax._src.xla_bridge:Unable to initialize backend 'tpu': INTERNAL: Failed to open libtpu.so: libtpu.so: cannot open shared object file: No such file or directory\n",
      "WARNING:jax._src.xla_bridge:An NVIDIA GPU may be present on this machine, but a CUDA-enabled jaxlib is not installed. Falling back to cpu.\n"
     ]
    }
   ],
   "source": [
    "\n",
    "import numpy as np\n",
    "import pylab as plt\n",
    "import tensorflow_probability.substrates.jax as tfp\n",
    "from jax import random, numpy as jnp\n",
    "\n",
    "from jaxns import resample\n",
    "\n",
    "tfpd = tfp.distributions"
   ]
  },
  {
   "cell_type": "code",
   "execution_count": 2,
   "metadata": {
    "execution": {
     "iopub.execute_input": "2023-12-21T11:26:10.596194Z",
     "iopub.status.busy": "2023-12-21T11:26:10.595995Z",
     "iopub.status.idle": "2023-12-21T11:26:10.599711Z",
     "shell.execute_reply": "2023-12-21T11:26:10.599284Z"
    },
    "ExecuteTime": {
     "end_time": "2024-09-23T22:06:35.924082Z",
     "start_time": "2024-09-23T22:06:35.920524Z"
    }
   },
   "outputs": [
    {
     "name": "stdout",
     "output_type": "stream",
     "text": [
      "Taking 10 samples from a Poisson distribution as data.\n"
     ]
    }
   ],
   "source": [
    "# Generate data\n",
    "np.random.seed(42)\n",
    "\n",
    "num_samples = 10\n",
    "\n",
    "true_k = 0.5\n",
    "true_theta = 1.\n",
    "_gamma = np.random.gamma(true_k, true_theta, size=num_samples)\n",
    "print(f\"Taking {num_samples} samples from a Poisson distribution as data.\")\n",
    "data = jnp.asarray(np.random.poisson(_gamma, size=num_samples))"
   ]
  },
  {
   "cell_type": "code",
   "execution_count": 3,
   "metadata": {
    "execution": {
     "iopub.execute_input": "2023-12-21T11:26:10.601486Z",
     "iopub.status.busy": "2023-12-21T11:26:10.601318Z",
     "iopub.status.idle": "2023-12-21T11:26:13.413088Z",
     "shell.execute_reply": "2023-12-21T11:26:13.412591Z"
    },
    "ExecuteTime": {
     "end_time": "2024-09-23T22:06:39.643563Z",
     "start_time": "2024-09-23T22:06:35.925122Z"
    }
   },
   "outputs": [
    {
     "name": "stderr",
     "output_type": "stream",
     "text": [
      "INFO:jaxns:Sanity check...\n",
      "INFO:jaxns:Sanity check passed\n"
     ]
    }
   ],
   "source": [
    "\n",
    "from jaxns.internals.mixed_precision import mp_policy\n",
    "from jaxns import Prior, Model\n",
    "\n",
    "# Build model\n",
    "prior_k = 100.\n",
    "\n",
    "# Note if prior_theta is chosen too large 32-bit will be insufficient\n",
    "prior_theta = 0.1\n",
    "\n",
    "\n",
    "def prior_model():\n",
    "    lamda = yield Prior(\n",
    "        tfpd.Gamma(concentration=jnp.asarray(prior_k, mp_policy.measure_dtype),\n",
    "                   rate=1. / jnp.asarray(prior_theta, mp_policy.measure_dtype)),\n",
    "        name='lamda')\n",
    "    return lamda\n",
    "\n",
    "\n",
    "def log_likelihood(lamda):\n",
    "    \"\"\"\n",
    "    Poisson likelihood.\n",
    "    \"\"\"\n",
    "    _log_prob = jnp.sum(tfpd.Poisson(rate=lamda).log_prob(data))\n",
    "    return _log_prob\n",
    "\n",
    "\n",
    "model = Model(prior_model=prior_model, log_likelihood=log_likelihood)\n",
    "\n",
    "model.sanity_check(random.PRNGKey(0), S=100)"
   ]
  },
  {
   "cell_type": "code",
   "execution_count": 4,
   "metadata": {
    "execution": {
     "iopub.execute_input": "2023-12-21T11:26:13.414937Z",
     "iopub.status.busy": "2023-12-21T11:26:13.414776Z",
     "iopub.status.idle": "2023-12-21T11:26:13.790810Z",
     "shell.execute_reply": "2023-12-21T11:26:13.790270Z"
    },
    "ExecuteTime": {
     "end_time": "2024-09-23T22:06:39.869996Z",
     "start_time": "2024-09-23T22:06:39.644631Z"
    }
   },
   "outputs": [
    {
     "name": "stdout",
     "output_type": "stream",
     "text": [
      "True Evidence = -69.31472389012055\n",
      "True posterior concentration (k) = 100.0\n",
      "True posterior rate (1/theta) = 20.0\n",
      "True posterior lamda = 5.0\n"
     ]
    }
   ],
   "source": [
    "# Evidence and posterior are analytic\n",
    "def log_gamma_prob(lamda, k, theta):\n",
    "    return tfpd.Gamma(concentration=k, rate=1. / theta).log_prob(lamda)\n",
    "    # return (k-1) * jnp.log(gamma)  - gamma / theta - gammaln(k) - k * jnp.log(theta)\n",
    "\n",
    "\n",
    "true_post_k = prior_k + jnp.sum(data)\n",
    "true_post_theta = prior_theta / (num_samples * prior_theta + 1.)\n",
    "\n",
    "true_post_mean_gamma = true_post_theta * true_post_k\n",
    "\n",
    "true_logZ = log_likelihood(1.) + log_gamma_prob(1., prior_k, prior_theta) - log_gamma_prob(1., true_post_k,\n",
    "                                                                                           true_post_theta)\n",
    "print(f\"True Evidence = {true_logZ}\")\n",
    "print(f\"True posterior concentration (k) = {true_post_k}\")\n",
    "print(f\"True posterior rate (1/theta) = {1. / true_post_theta}\")\n",
    "print(f\"True posterior lamda = {true_post_mean_gamma}\")\n"
   ]
  },
  {
   "cell_type": "code",
   "execution_count": 5,
   "metadata": {
    "collapsed": false,
    "ExecuteTime": {
     "end_time": "2024-09-23T22:06:39.874377Z",
     "start_time": "2024-09-23T22:06:39.871492Z"
    }
   },
   "outputs": [
    {
     "name": "stdout",
     "output_type": "stream",
     "text": [
      "NestedSampler(model=<jaxns.framework.model.Model object at 0x7f9336c268d0>, max_samples=10000, num_live_points=30, s=5, k=0, c=30, num_parallel_workers=None, devices=None, difficult_model=False, parameter_estimation=False, init_efficiency_threshold=0.1, verbose=False)\n"
     ]
    }
   ],
   "source": [
    "from jaxns import NestedSampler\n",
    "\n",
    "# Run the nested sampling\n",
    "ns = NestedSampler(model=model)\n",
    "print(ns)"
   ]
  },
  {
   "cell_type": "code",
   "outputs": [
    {
     "name": "stdout",
     "output_type": "stream",
     "text": [
      "sender_node_idx: [  0   0   0   0   0   0   0   0   0   0   0   0   0   0   0  15   0   0\n",
      "   0  15   0   0  15  15   0  15   0   0  15  15   0  15  30  15  30  30\n",
      "   0   0  30  30  30   0   0  30  30  45   0  45  45  15  45  45  30  45\n",
      "  15  15  45  45  15  45  45  60  60  45  45  60  60  15  60  60  60  30\n",
      "  60  30   0  75  60  75  75  45  45  30  75  60  30  75  75  75  75  75\n",
      "  90  60  15  90  30  75  90  60  75  75  90  60  90  90  90  90  90  60\n",
      "  90 105  75 105  45 105 105  90  90  75 105 105 105 120 120  90 120 105\n",
      " 120 105 120 120  30 120 105 105 105 135 120 120 135 120 135 105 135 135\n",
      " 135 135 135 135 135 120 120 150  90 150 150 150 150 135 135 135 120 150\n",
      " 150 150 150 165 150 165  75 165 150 165 165 165 150 105 135 150  60 165\n",
      " 120 180 165 180 165 180 135 180 180 180 165 165 150 180  90 180 165 195\n",
      " 195 195 195 105 195 195 150 195 195 180 180 165 210 210 210 210 210 180\n",
      " 210 195 180 120 180 180 195 210 210 225 195 210 195 225 210 180 210 225\n",
      " 225 225 210 225 225 165 240 210 195 240 240 225 195 240 240 225 240 165\n",
      " 240 225 240 255 225 255 225 255 255 225 240 240 240 255 210 225 255 255\n",
      " 270 255 240 255 270 270 255 270 270 255 255 270 210 270 270 285 270 270\n",
      " 285 285 285 225 255 195 285 270 285 285 285 285 300 240 300 300 270 270\n",
      " 285 300 300 270 285 255 300 285 255 315 315 300 315 315 240 270 315 315\n",
      " 300 300 300 315 315 315 300 330 315 330 330 330 330 330 330 300 330 300\n",
      " 300 330 315 315 345 315 285 315 330 345 345 345 330 240 345 345 345 345\n",
      " 330 330 360 345 315 330 360 360 360 345 345 360 345 360 360 300 375 375\n",
      " 345 375 375 375 375 360 360 285 330 375 360 375 285 390 390 390 375 390\n",
      " 390 390 360 345 375 390 375 390 375 375 405 390 345 360 405 405 405 405\n",
      " 405 405 390 375 390 405 420 420 420 405 360 405 375 405 360 390 390 420\n",
      " 420 420 420 435 405 420 420 435 420 435 435 435 435 390 390 420 360 435\n",
      " 420 405 450 435 450 435 450 450 450 435 450 435 450 420 420 450 435 465\n",
      " 465 465 465 450 405 465 465 450 465 465 465 465 450 465 480 480 465 480\n",
      " 435 435 435 465 480 480 480 480 480 450 495 450 465 420 495 450 480 495\n",
      " 495 495 495 480 495 495 495 510 510 495 495 480 405 510 495 480 510 510\n",
      " 510 510 495 465 525 525 510 510 525 525 525 525 495 525 495 510 525 510\n",
      " 510 540 540 525 450 540 510 540 540 525 540 480 540 540 510 555 555 555\n",
      " 525 555 480 555 555 555 555 525 555 480 525 525 570 570 570 570 555 540\n",
      " 570 570 570 540 570 570 510 555 555 585 570 585 585 540 570 585 585 570\n",
      " 585 540 585 555 525 585 600 555 540 600 585 600 600 585 585 600 585 600\n",
      " 600 540 570 615 615 615 585 615 615 570 615 615 570 615 600 615 600 555\n",
      " 630 630 630 630 630 630 600 630 585 615 540 600 630 600 615 645 645 645\n",
      " 645 645 630 645 615 630 585 615 600 600 630 645 645 660 645 600 645 645\n",
      " 660 660 630 660 645 660 645 630 660 675 675 630 660 675 675 675 675 660\n",
      " 660 630 675 675 615 660 690 690 675 675 690 660 690 615 690 675 660 690\n",
      " 690 675 645 705 675 705 705 705 705 660 705 660 645 705 690 705 705 690\n",
      " 675 720 720 720 690 705 705 720 705 720 690 720 690 705 720 690 690 735\n",
      " 735 720 735 735 660 720 735 735 735 735 720 720 690 750 750 735 720 750\n",
      " 750 750 735 735 750 705 750 750 720 750 765 735 720 765 765 765 765 765\n",
      " 705 765 750 735 765 720 780 780 780 780 780 735 750 780 750 780 765 675\n",
      " 780 735 765 795 795 795 795 780 750 795 795 780 795 765 780 795 765 765\n",
      " 810 810 810 810 810 810 810 810 810 810 750 780 795 810 795 825 825 825\n",
      " 825 825 825 825 825 825 825 825 825 825 780 825 840 840 840 840 840 840\n",
      " 840 840 840 840 840 840 810 765 840 855 855 855 855 855 855 855 855 855\n",
      " 855 780 810 795 765 840 870 870 870 870 870 870 870 870 870 870 870 750\n",
      " 855 840 810 885 885 885 885 885 885 885 885 885 885 885 885 885 885 855\n",
      " 900 900 900 900 900 900 900 900 900 900 900 900 900 900 900 915 915 915\n",
      " 915 915 915 915 915 915 915 915 915 915 915 885 930 930 930 930 930 930\n",
      " 930 930 930 930 930 930 930 930 930 945 945 945 945 945 945 945 945 945\n",
      " 945 945 945 945 945 945 870 855 855 960 960 960 960 915 960 870 960 960\n",
      " 960 960 960 795 795 810 795 960 960 870 960 960 855 780 960 825 795 870]\n",
      "log_L: [-119.7207077  -117.89282049 -117.48994224 -113.51660282 -112.26828003\n",
      " -111.98952857 -109.95866767 -107.15933112 -106.21854266 -105.93495703\n",
      " -105.52350649 -103.90799527 -102.97154206 -102.5765895  -100.86802175\n",
      " -100.81248242  -99.54568448  -98.06454903  -97.02118797  -96.82091026\n",
      "  -96.76944835  -96.56460828  -96.39568219  -95.26898854  -94.87034099\n",
      "  -94.52093414  -94.34800458  -94.09201377  -94.07256248  -93.28817511\n",
      "  -92.64913779  -92.21196456  -92.03170907  -91.76726209  -91.31082535\n",
      "  -91.29723166  -91.08273169  -90.99160538  -90.07825866  -89.87580259\n",
      "  -89.85700688  -89.69838228  -89.37203044  -89.2096812   -88.93552799\n",
      "  -88.83913364  -88.7313763   -88.46493619  -88.40762786  -88.2016936\n",
      "  -87.9507252   -87.49985495  -87.13522128  -87.03281737  -86.78079198\n",
      "  -86.27125594  -86.23283004  -86.20294291  -85.89224411  -85.63700198\n",
      "  -85.57424729  -85.45438496  -85.07580133  -84.92999225  -84.67432308\n",
      "  -84.48500779  -84.15738957  -83.73230425  -83.48548498  -83.32824092\n",
      "  -83.29754275  -83.09865413  -82.90285677  -82.78999331  -82.64925164\n",
      "  -82.48693027  -82.27276672  -82.00459825  -81.77585812  -81.68058029\n",
      "  -81.60933053  -81.36702007  -81.36023604  -81.2391817   -81.22430289\n",
      "  -80.98320485  -80.3495152   -80.02997731  -79.99207925  -79.48342188\n",
      "  -79.2477261   -79.23369288  -79.18770834  -78.65260889  -78.23126046\n",
      "  -78.16980671  -78.03518446  -78.00985867  -77.82428258  -77.47961256\n",
      "  -77.27538473  -76.48047525  -76.43731665  -76.16630169  -75.78444404\n",
      "  -75.66441288  -75.56832118  -75.52242121  -75.51312605  -75.49121362\n",
      "  -75.47267346  -75.43697744  -75.40615926  -75.24458139  -74.79206155\n",
      "  -74.74070884  -74.63252069  -74.47790716  -74.30834637  -74.22609433\n",
      "  -74.21461374  -74.18841103  -74.03609944  -73.93535401  -73.79044791\n",
      "  -73.70996714  -73.69817228  -73.69611467  -73.36557705  -73.36290133\n",
      "  -73.31390172  -73.14718758  -73.10064037  -72.89176404  -72.74447103\n",
      "  -72.72910219  -72.71175995  -72.57661685  -72.49569064  -72.34921359\n",
      "  -72.28985766  -72.22999773  -72.13142701  -72.07596366  -71.87890131\n",
      "  -71.83887522  -71.6219688   -71.6125043   -71.57558701  -71.42916189\n",
      "  -71.39699053  -71.36016727  -71.24481302  -71.06388553  -71.02778625\n",
      "  -71.02417096  -71.00996637  -70.98238504  -70.90572948  -70.62206226\n",
      "  -70.21097568  -70.12487186  -70.08644877  -70.01992376  -69.97482866\n",
      "  -69.94368122  -69.88961951  -69.6840855   -69.57163799  -69.41431119\n",
      "  -69.38583821  -69.36438683  -69.33387806  -69.19611347  -69.09328535\n",
      "  -69.07837621  -68.86494542  -68.8551736   -68.59550118  -68.49765622\n",
      "  -68.47767518  -68.43839518  -68.37609331  -68.36409969  -68.34732124\n",
      "  -68.19990312  -68.10453127  -68.02391557  -67.91068139  -67.75266884\n",
      "  -67.43940086  -67.38724487  -67.3212352   -67.26890699  -67.22588999\n",
      "  -67.18219811  -67.00243337  -66.94782384  -66.8217604   -66.68411754\n",
      "  -66.5220473   -66.41136888  -66.40173974  -66.3827407   -66.26149634\n",
      "  -66.16185981  -66.0058283   -65.98626363  -65.87166852  -65.67012292\n",
      "  -65.61613242  -65.51924277  -65.46895035  -65.32040079  -65.31096665\n",
      "  -65.25261673  -65.22368315  -65.19755627  -65.19555729  -65.17751021\n",
      "  -65.04936207  -64.78002752  -64.53841075  -64.46842141  -64.2523467\n",
      "  -64.25033307  -64.02793043  -64.02135115  -63.90817756  -63.88972818\n",
      "  -63.82234535  -63.79133683  -63.74146085  -63.52876346  -63.50899457\n",
      "  -63.28325182  -63.22728482  -63.08866024  -62.98483689  -62.85052861\n",
      "  -62.74261324  -62.72521324  -62.65488431  -62.5540754   -62.45217117\n",
      "  -62.44579406  -62.38527998  -62.37971162  -62.36965677  -62.33491627\n",
      "  -62.3218712   -62.27789127  -62.00255319  -61.9043444   -61.87771693\n",
      "  -61.8738441   -61.85957991  -61.75074103  -61.66688376  -61.26752258\n",
      "  -61.25534746  -61.15510559  -61.09848239  -61.06714138  -60.82843534\n",
      "  -60.82600203  -60.80675994  -60.80302177  -60.73207924  -60.70908733\n",
      "  -60.6469321   -60.63591508  -60.58641761  -60.50991045  -60.43954105\n",
      "  -60.34526255  -60.30244697  -60.05455144  -59.86488916  -59.82087176\n",
      "  -59.81654943  -59.67779521  -59.66616944  -59.49451474  -59.41753795\n",
      "  -59.3555024   -59.34013115  -59.31932997  -59.27134611  -59.24746951\n",
      "  -59.23549043  -59.05366399  -58.98385992  -58.88066044  -58.87031183\n",
      "  -58.72771525  -58.59841586  -58.58612199  -58.36620792  -58.29257545\n",
      "  -58.271695    -58.17609134  -58.03643327  -58.03340551  -57.99269966\n",
      "  -57.96356682  -57.87596229  -57.86733762  -57.61327722  -57.60170456\n",
      "  -57.35986571  -57.35020818  -57.21960993  -57.11157064  -57.07597547\n",
      "  -57.07268435  -56.98554621  -56.97750916  -56.916784    -56.86702716\n",
      "  -56.79493668  -56.72651099  -56.58493328  -56.4443012   -56.43312956\n",
      "  -56.31243155  -56.30729356  -56.16417839  -56.01291836  -55.95956068\n",
      "  -55.95718375  -55.94799019  -55.93106883  -55.90990717  -55.90173263\n",
      "  -55.87454341  -55.8479096   -55.81191927  -55.73518252  -55.71263352\n",
      "  -55.71012876  -55.69849009  -55.67095658  -55.61257413  -55.56503338\n",
      "  -55.51031542  -55.51029564  -55.43958955  -55.37052774  -55.25506366\n",
      "  -55.25137487  -55.24542003  -55.23687724  -55.15687056  -55.11111008\n",
      "  -55.05680549  -55.03199774  -55.01451637  -55.00289563  -54.99899958\n",
      "  -54.93747822  -54.88296362  -54.83617202  -54.68334826  -54.67654804\n",
      "  -54.64250687  -54.63935144  -54.57160012  -54.52484302  -54.50035469\n",
      "  -54.49672565  -54.43185837  -54.42903801  -54.35425315  -54.33100347\n",
      "  -54.30463238  -54.29841192  -54.27835957  -54.23870675  -54.22216614\n",
      "  -54.15777578  -54.15099827  -54.15055778  -54.04632777  -54.01156119\n",
      "  -53.97502651  -53.95739463  -53.94555288  -53.93356098  -53.85235853\n",
      "  -53.69886037  -53.64462941  -53.63024224  -53.56810742  -53.54367895\n",
      "  -53.5391007   -53.53645597  -53.41960557  -53.35166947  -53.1921213\n",
      "  -52.97976061  -52.96679075  -52.94773228  -52.87506953  -52.86472021\n",
      "  -52.84568448  -52.79463642  -52.78805223  -52.75497567  -52.75357083\n",
      "  -52.72023767  -52.62576648  -52.51079174  -52.39980876  -52.34864699\n",
      "  -52.27945895  -52.23349973  -52.17299118  -52.05225341  -51.68156168\n",
      "  -51.68031898  -51.64639308  -51.64046502  -51.63675635  -51.60595041\n",
      "  -51.54476418  -51.49847386  -51.49369878  -51.45012913  -51.44084423\n",
      "  -51.43931093  -51.251732    -51.25152762  -51.23506055  -51.2036062\n",
      "  -51.14096467  -51.08743034  -51.0804851   -50.98985444  -50.97177433\n",
      "  -50.94426767  -50.92253474  -50.91907951  -50.88533473  -50.88016491\n",
      "  -50.86280907  -50.80134317  -50.67886749  -50.67572249  -50.61133621\n",
      "  -50.60476841  -50.6026043   -50.60053161  -50.54289879  -50.51303007\n",
      "  -50.43283593  -50.37374181  -50.31548097  -50.31323956  -50.31303115\n",
      "  -50.21399151  -50.18688842  -50.15190332  -50.11232722  -49.7693256\n",
      "  -49.7137201   -49.66545208  -49.63098809  -49.60458711  -49.57744495\n",
      "  -49.52666017  -49.46475951  -49.43227222  -49.3019332   -49.2963448\n",
      "  -49.29344006  -49.27009329  -49.2465915   -49.15050119  -49.13858829\n",
      "  -49.11563958  -49.11526281  -49.10309033  -49.0179543   -48.91116156\n",
      "  -48.89228683  -48.85523092  -48.79756764  -48.75515684  -48.75512796\n",
      "  -48.63932889  -48.55779236  -48.5434481   -48.44990226  -48.42938519\n",
      "  -48.42767105  -48.42337763  -48.40905955  -48.39991921  -48.39955913\n",
      "  -48.39803058  -48.39509551  -48.33742353  -48.23706834  -48.22251588\n",
      "  -48.21190723  -48.15521134  -48.15168069  -48.04588583  -48.00456309\n",
      "  -47.9922414   -47.98758742  -47.97055656  -47.95182077  -47.93196748\n",
      "  -47.90486619  -47.89954155  -47.89564144  -47.78824134  -47.74721544\n",
      "  -47.70010463  -47.68150089  -47.66784506  -47.53676295  -47.5333921\n",
      "  -47.49737626  -47.44829673  -47.43008008  -47.31706766  -47.23616929\n",
      "  -47.2315347   -47.22117047  -47.19969273  -47.18796511  -47.14806391\n",
      "  -47.04561214  -46.98758958  -46.97273422  -46.79131306  -46.65193835\n",
      "  -46.62516759  -46.53315852  -46.51670159  -46.48090893  -46.46375791\n",
      "  -46.43631136  -46.41382486  -46.39598474  -46.32819294  -46.32063231\n",
      "  -46.30571891  -46.26900816  -46.18238974  -46.17728788  -46.1038458\n",
      "  -46.01195955  -46.01176272  -45.96933587  -45.90834298  -45.843876\n",
      "  -45.83254633  -45.80491824  -45.79594627  -45.78183973  -45.74464685\n",
      "  -45.74107323  -45.71533171  -45.46328974  -45.46081403  -45.4469488\n",
      "  -45.41900702  -45.41399924  -45.39102591  -45.38338533  -45.34536557\n",
      "  -45.31834857  -45.29078371  -45.27555802  -45.26112134  -45.23378908\n",
      "  -45.20127931  -45.18705633  -45.05411447  -45.03818043  -44.98486335\n",
      "  -44.98174395  -44.88089214  -44.84140309  -44.84139104  -44.83963322\n",
      "  -44.79141886  -44.79124465  -44.72998582  -44.69957237  -44.6444256\n",
      "  -44.60938364  -44.55352766  -44.49890632  -44.43549785  -44.32303281\n",
      "  -44.31340541  -44.30193998  -44.28686941  -44.27814165  -44.20613778\n",
      "  -44.16376149  -44.1375921   -44.0903658   -44.02600154  -44.01905269\n",
      "  -44.01135743  -44.00785675  -43.99273602  -43.96724042  -43.96561149\n",
      "  -43.93116331  -43.92081744  -43.9027143   -43.8962864   -43.88043113\n",
      "  -43.83907862  -43.81159072  -43.68725395  -43.65596137  -43.65105748\n",
      "  -43.62354367  -43.5021476   -43.4862609   -43.43703748  -43.4357452\n",
      "  -43.43027711  -43.41599021  -43.41069586  -43.33871695  -43.31577517\n",
      "  -43.31389768  -43.28246266  -43.2560635   -43.24980762  -43.17932253\n",
      "  -43.14569668  -43.13856895  -43.13552459  -43.09176326  -42.99214792\n",
      "  -42.95979413  -42.95867954  -42.89778408  -42.88926202  -42.84382239\n",
      "  -42.83494181  -42.69959809  -42.6686637   -42.58990347  -42.57157729\n",
      "  -42.5293255   -42.47484087  -42.46286445  -42.44727598  -42.39575246\n",
      "  -42.362115    -42.32608832  -42.30973274  -42.2961711   -42.27146155\n",
      "  -42.25214697  -42.21768572  -42.18841041  -42.15849133  -42.11644971\n",
      "  -42.04135527  -41.97921391  -41.92809335  -41.82083717  -41.68415712\n",
      "  -41.66961958  -41.65264946  -41.60270386  -41.45548645  -41.45099507\n",
      "  -41.44438162  -41.42567866  -41.40067723  -41.2977008   -41.24246373\n",
      "  -41.2195173   -41.20484252  -41.16458952  -41.16386695  -41.07774075\n",
      "  -41.01867876  -40.99259334  -40.97461663  -40.9679218   -40.93745942\n",
      "  -40.91976845  -40.91687358  -40.89024911  -40.8521067   -40.81010579\n",
      "  -40.80731252  -40.80186039  -40.77134353  -40.74424335  -40.74253451\n",
      "  -40.71196522  -40.7088889   -40.70093163  -40.68130054  -40.65227131\n",
      "  -40.64854063  -40.63614384  -40.63078479  -40.61929075  -40.59236755\n",
      "  -40.57059219  -40.56076996  -40.53131011  -40.53014088  -40.52359042\n",
      "  -40.50536646  -40.48540424  -40.46695339  -40.43874033  -40.42821702\n",
      "  -40.41561809  -40.36371518  -40.35044453  -40.33689415  -40.31254661\n",
      "  -40.30731315  -40.26287449  -40.18282205  -40.16138201  -40.13986003\n",
      "  -40.11352958  -40.09712185  -40.08643811  -40.05319997  -39.98361829\n",
      "  -39.98066853  -39.90485362  -39.89533578  -39.87881007  -39.85806225\n",
      "  -39.80920244  -39.76079471  -39.75857867  -39.74750262  -39.74077228\n",
      "  -39.68597378  -39.66811863  -39.66483001  -39.63554363  -39.63291081\n",
      "  -39.60293769  -39.54113192  -39.54006288  -39.52952009  -39.51326805\n",
      "  -39.50868231  -39.49939621  -39.49072189  -39.48553417  -39.4708307\n",
      "  -39.4667033   -39.45576689  -39.45424497  -39.44310155  -39.43741531\n",
      "  -39.42965194  -39.41899601  -39.41588133  -39.4054675   -39.39610001\n",
      "  -39.39160744  -39.37482296  -39.37349952  -39.35914798  -39.35701446\n",
      "  -39.35485778  -39.3511771   -39.32878653  -39.32376624  -39.31390849\n",
      "  -39.31222743  -39.31031798  -39.30966822  -39.29871959  -39.29633229\n",
      "  -39.284628    -39.27210207  -39.27034942  -39.26800026  -39.2656578\n",
      "  -39.26143017  -39.25095047  -39.2488456   -39.23989858  -39.23200626\n",
      "  -39.23152774  -39.21949049  -39.2180147   -39.21454695  -39.21346736\n",
      "  -39.20578915  -39.20192921  -39.19779418  -39.1959419   -39.1933327\n",
      "  -39.17397218  -39.17306336  -39.17132738  -39.15345576  -39.14709676\n",
      "  -39.14496091  -39.14147816  -39.13712682  -39.13655984  -39.1351975\n",
      "  -39.13517362  -39.12609359  -39.1258033   -39.12378121  -39.10781894\n",
      "  -39.10145261  -39.08748283  -39.08061806  -39.08009476  -39.07844909\n",
      "  -39.07832276  -39.07547572  -39.07500226  -39.05977846  -39.05921675\n",
      "  -39.04316424  -39.04241824  -39.02563268  -39.02340597  -39.01415372\n",
      "  -39.00396063  -39.00302594  -38.99822097  -38.98950321  -38.97872065\n",
      "  -38.97081119  -38.95606255  -38.94031874  -38.91643129  -38.91239322\n",
      "  -38.90356092  -38.90189128  -38.89853698  -38.88803402  -38.87627458\n",
      "  -38.87360908  -38.87242255  -38.86795819  -38.86730475  -38.86512126\n",
      "  -38.85677518  -38.85592437  -38.85275816  -38.84858649  -38.84598836\n",
      "  -38.83032054  -38.82626234  -38.82449346  -38.81693838  -38.80326615\n",
      "  -38.80210722  -38.79602664  -38.76614599  -38.75703422  -38.75669457\n",
      "  -38.74868621  -38.71010403  -38.70962344  -38.70701511  -38.70525006\n",
      "  -38.70443164  -38.70280522  -38.70045544  -38.70022775  -38.67827279\n",
      "  -38.677784    -38.66412271  -38.65735227  -38.65488965  -38.64748703\n",
      "  -38.63328932  -38.63257701  -38.62582826  -38.61850197  -38.60539643\n",
      "  -38.6003133   -38.59834843  -38.59810819  -38.59761429  -38.59090746\n",
      "  -38.58632018  -38.5673116   -38.56152499  -38.55166827  -38.53778308\n",
      "  -38.53174995  -38.52798247  -38.52332365  -38.52295762  -38.50033586\n",
      "  -38.49538779  -38.45997738  -38.45477082  -38.44635439  -38.43877843\n",
      "  -38.43643523  -38.43585899  -38.42267007  -38.3689176   -38.34950195\n",
      "  -38.33461405  -38.33264747  -38.33135927  -38.32504847  -38.31797877\n",
      "  -38.31489006  -38.31271393  -38.31143153  -38.30142607  -38.29644602\n",
      "  -38.29106426  -38.29004067  -38.2881381   -38.22250966  -38.21491877\n",
      "  -38.19061345  -38.1715912   -38.17077013  -38.1703219   -38.14758918\n",
      "  -38.13752508  -38.11266376  -38.10342011  -38.08516124  -38.07253534\n",
      "  -38.04887005  -38.00626594  -37.97830366  -37.97380509  -37.9658883\n",
      "  -37.91656999  -37.91331848  -37.86893913  -37.82629594  -37.78440293\n",
      "  -37.7757406   -37.76848822  -37.75653597  -37.7416836   -37.69859755\n",
      "  -37.68402741  -37.6591914   -37.64256305  -37.60595621  -37.60028858\n",
      "  -37.48854392  -37.46060106  -37.4348281   -37.42253364  -37.4022904\n",
      "  -37.38130897  -37.37022806  -37.34216862  -37.31453197  -37.27140721\n",
      "  -37.21492431  -37.21479613  -37.18089518  -37.1722546   -37.14357561\n",
      "  -37.08188235  -37.00165271  -36.98242856  -36.94991191  -36.93562551\n",
      "  -36.74409556  -36.5546321   -36.31390663  -36.06511873  -35.21506768]\n"
     ]
    },
    {
     "name": "stderr",
     "output_type": "stream",
     "text": [
      "/home/albert/git/jaxns/jaxns/plotting.py:48: UserWarning: Found samples with zero likelihood evaluations.\n",
      "  warnings.warn(\"Found samples with zero likelihood evaluations.\")\n",
      "/home/albert/git/jaxns/jaxns/plotting.py:52: RuntimeWarning: divide by zero encountered in divide\n",
      "  1. / num_likelihood_evaluations_per_sample\n"
     ]
    },
    {
     "data": {
      "text/plain": "<Figure size 800x1200 with 5 Axes>",
      "image/png": "[encoded data removed]"
     },
     "metadata": {},
     "output_type": "display_data"
    }
   ],
   "source": [
    "\n",
    "\n",
    "term_reason, state = ns(random.PRNGKey(3452345))\n",
    "results = ns.to_results(termination_reason=term_reason, state=state)\n",
    "ns.plot_diagnostics(results)"
   ],
   "metadata": {
    "execution": {
     "iopub.execute_input": "2023-12-21T11:26:13.792653Z",
     "iopub.status.busy": "2023-12-21T11:26:13.792508Z",
     "iopub.status.idle": "2023-12-21T11:26:28.935666Z",
     "shell.execute_reply": "2023-12-21T11:26:28.935144Z"
    },
    "ExecuteTime": {
     "end_time": "2024-09-23T22:06:52.877800Z",
     "start_time": "2024-09-23T22:06:39.875261Z"
    }
   },
   "execution_count": 6
  },
  {
   "cell_type": "code",
   "outputs": [
    {
     "data": {
      "text/plain": "Array(990, dtype=int64)"
     },
     "execution_count": 13,
     "metadata": {},
     "output_type": "execute_result"
    }
   ],
   "source": [
    "state.num_samples"
   ],
   "metadata": {
    "collapsed": false,
    "ExecuteTime": {
     "end_time": "2024-09-23T22:09:22.738222Z",
     "start_time": "2024-09-23T22:09:22.734812Z"
    }
   },
   "execution_count": 13
  },
  {
   "cell_type": "code",
   "execution_count": 7,
   "metadata": {
    "execution": {
     "iopub.execute_input": "2023-12-21T11:26:28.937744Z",
     "iopub.status.busy": "2023-12-21T11:26:28.937540Z",
     "iopub.status.idle": "2023-12-21T11:26:29.605795Z",
     "shell.execute_reply": "2023-12-21T11:26:29.605214Z"
    },
    "ExecuteTime": {
     "end_time": "2024-09-23T22:06:53.132548Z",
     "start_time": "2024-09-23T22:06:52.879447Z"
    }
   },
   "outputs": [
    {
     "ename": "ValueError",
     "evalue": "cannot convert float NaN to integer",
     "output_type": "error",
     "traceback": [
      "\u001B[0;31m---------------------------------------------------------------------------\u001B[0m",
      "\u001B[0;31mValueError\u001B[0m                                Traceback (most recent call last)",
      "Cell \u001B[0;32mIn[7], line 3\u001B[0m\n\u001B[1;32m      1\u001B[0m \u001B[38;5;66;03m# Comparing samples to true posterior\u001B[39;00m\n\u001B[0;32m----> 3\u001B[0m samples \u001B[38;5;241m=\u001B[39m resample(random\u001B[38;5;241m.\u001B[39mPRNGKey(\u001B[38;5;241m43083245\u001B[39m), results\u001B[38;5;241m.\u001B[39msamples, results\u001B[38;5;241m.\u001B[39mlog_dp_mean, S\u001B[38;5;241m=\u001B[39m\u001B[38;5;28;43mint\u001B[39;49m\u001B[43m(\u001B[49m\u001B[43mresults\u001B[49m\u001B[38;5;241;43m.\u001B[39;49m\u001B[43mESS\u001B[49m\u001B[43m)\u001B[49m)\n\u001B[1;32m      5\u001B[0m plt\u001B[38;5;241m.\u001B[39mhist(samples[\u001B[38;5;124m'\u001B[39m\u001B[38;5;124mlamda\u001B[39m\u001B[38;5;124m'\u001B[39m], bins\u001B[38;5;241m=\u001B[39m\u001B[38;5;124m'\u001B[39m\u001B[38;5;124mauto\u001B[39m\u001B[38;5;124m'\u001B[39m, ec\u001B[38;5;241m=\u001B[39m\u001B[38;5;124m'\u001B[39m\u001B[38;5;124mblue\u001B[39m\u001B[38;5;124m'\u001B[39m, alpha\u001B[38;5;241m=\u001B[39m\u001B[38;5;241m0.5\u001B[39m, density\u001B[38;5;241m=\u001B[39m\u001B[38;5;28;01mTrue\u001B[39;00m, fc\u001B[38;5;241m=\u001B[39m\u001B[38;5;124m'\u001B[39m\u001B[38;5;124mnone\u001B[39m\u001B[38;5;124m'\u001B[39m)\n\u001B[1;32m      7\u001B[0m _gamma \u001B[38;5;241m=\u001B[39m np\u001B[38;5;241m.\u001B[39mrandom\u001B[38;5;241m.\u001B[39mgamma(true_post_k, true_post_theta, size\u001B[38;5;241m=\u001B[39m\u001B[38;5;241m100000\u001B[39m)\n",
      "File \u001B[0;32m~/miniconda3/envs/jaxns_py/lib/python3.11/site-packages/jax/_src/array.py:280\u001B[0m, in \u001B[0;36mArrayImpl.__int__\u001B[0;34m(self)\u001B[0m\n\u001B[1;32m    278\u001B[0m \u001B[38;5;28;01mdef\u001B[39;00m \u001B[38;5;21m__int__\u001B[39m(\u001B[38;5;28mself\u001B[39m):\n\u001B[1;32m    279\u001B[0m   core\u001B[38;5;241m.\u001B[39mcheck_scalar_conversion(\u001B[38;5;28mself\u001B[39m)\n\u001B[0;32m--> 280\u001B[0m   \u001B[38;5;28;01mreturn\u001B[39;00m \u001B[38;5;28;43mself\u001B[39;49m\u001B[38;5;241;43m.\u001B[39;49m\u001B[43m_value\u001B[49m\u001B[38;5;241;43m.\u001B[39;49m\u001B[38;5;21;43m__int__\u001B[39;49m\u001B[43m(\u001B[49m\u001B[43m)\u001B[49m\n",
      "\u001B[0;31mValueError\u001B[0m: cannot convert float NaN to integer"
     ]
    }
   ],
   "source": [
    "# Comparing samples to true posterior\n",
    "\n",
    "samples = resample(random.PRNGKey(43083245), results.samples, results.log_dp_mean, S=int(results.ESS))\n",
    "\n",
    "plt.hist(samples['lamda'], bins='auto', ec='blue', alpha=0.5, density=True, fc='none')\n",
    "\n",
    "_gamma = np.random.gamma(true_post_k, true_post_theta, size=100000)\n",
    "\n",
    "plt.hist(_gamma, bins='auto', ec='orange', alpha=0.5, density=True, fc='none')\n",
    "plt.show()"
   ]
  },
  {
   "cell_type": "code",
   "outputs": [],
   "source": [],
   "metadata": {
    "collapsed": false
   }
  }
 ],
 "metadata": {
  "kernelspec": {
   "display_name": "Python 3 (ipykernel)",
   "language": "python",
   "name": "python3"
  },
  "language_info": {
   "codemirror_mode": {
    "name": "ipython",
    "version": 3
   },
   "file_extension": ".py",
   "mimetype": "text/x-python",
   "name": "python",
   "nbconvert_exporter": "python",
   "pygments_lexer": "ipython3",
   "version": "3.11.5"
  }
 },
 "nbformat": 4,
 "nbformat_minor": 1
}
